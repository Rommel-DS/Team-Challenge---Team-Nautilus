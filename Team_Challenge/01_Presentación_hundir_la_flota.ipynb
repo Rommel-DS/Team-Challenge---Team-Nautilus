{
 "cells": [
  {
   "cell_type": "markdown",
   "metadata": {},
   "source": [
    "# Presentación: Juego \"Hundir la Flota\"\n",
    "\n",
    "Este notebook tiene como propósito explicar de manera exhaustiva el código del juego **Hundir la Flota**. \n",
    "El proyecto se divide en dos archivos:\n",
    "\n",
    "- **`funciones.py`**: Contiene la clase principal `Tablero` con toda la lógica del juego.\n",
    "- **`main.py`**: Es el punto de entrada del programa que ejecuta el flujo del juego.\n",
    "\n",
    "A lo largo de este notebook, describiremos cada función y método paso a paso, con fragmentos de código y explicaciones.\n"
   ]
  },
  {
   "cell_type": "markdown",
   "metadata": {},
   "source": [
    "## Estructura del Proyecto\n",
    "\n",
    "El proyecto consta de los siguientes archivos:\n",
    "\n",
    "1. **`funciones.py`**: Este archivo define la clase `Tablero`, que es la base del juego. \n",
    "   Incluye los métodos para gestionar tableros, barcos, disparos y la interacción del juego.\n",
    "   \n",
    "2. **`main.py`**: Es el programa principal que inicializa una instancia de la clase `Tablero` \n",
    "   y gestiona el flujo del juego interactivo entre el usuario y la máquina.\n"
   ]
  },
  {
   "cell_type": "markdown",
   "metadata": {},
   "source": [
    "## Clase `Tablero`\n",
    "\n",
    "La clase `Tablero` es el componente principal que define las reglas y operaciones del juego. \n",
    "En esta sección, describiremos los atributos y todos los métodos implementados en esta clase.\n"
   ]
  },
  {
   "cell_type": "markdown",
   "metadata": {},
   "source": [
    "### Atributos de la Clase\n",
    "\n",
    "La clase `Tablero` inicializa los siguientes atributos:\n",
    "\n",
    "- **`dimensiones`**: Dimensiones del tablero (por defecto, 10x10).\n",
    "- **`id_user`** y **`id_machine`**: Identificadores únicos para el jugador y la máquina.\n",
    "- **`tablero_user`** y **`tablero_machine`**: Tableros representados como matrices de caracteres.\n",
    "- **`disparos_realizados_user`** y **`disparos_realizados_machine`**: Conjuntos que almacenan las coordenadas de los disparos realizados.\n",
    "- **`barcos_user`** y **`barcos_machine`**: Diccionarios que contienen las posiciones de los barcos para cada jugador.\n",
    "\n",
    "Código correspondiente:\n"
   ]
  },
  {
   "cell_type": "code",
   "execution_count": 1,
   "metadata": {},
   "outputs": [],
   "source": [
    "class Tablero:\n",
    "    def __init__(self, dimensiones=(10, 10), id_user=1, id_machine=0):\n",
    "        self.dimensiones = dimensiones\n",
    "        self.id_user = id_user\n",
    "        self.id_machine = id_machine\n",
    "        self.tablero_user = np.full(dimensiones, \"~\")  # Tablero del usuario\n",
    "        self.tablero_machine = np.full(dimensiones, \"~\")  # Tablero de la máquina\n",
    "        self.disparos_realizados_user = set()  # Disparos realizados por el usuario\n",
    "        self.disparos_realizados_machine = set()  # Disparos realizados por la máquina\n",
    "        self.barcos_user = {}  # Diccionario con los barcos del usuario\n",
    "        self.barcos_machine = {}  # Diccionario con los barcos de la máquina\n"
   ]
  },
  {
   "cell_type": "markdown",
   "metadata": {},
   "source": [
    "### Métodos para Colocación de Barcos\n",
    "\n",
    "Los siguientes métodos se encargan de generar posiciones aleatorias para los barcos y ubicarlos en los tableros:\n",
    "\n",
    "1. **`crear_barcos_aleatorios`**: Genera posiciones aleatorias para los barcos según las esloras y cantidades especificadas.\n",
    "2. **`intentar_colocar_barco`**: Intenta colocar un barco en el tablero de manera válida.\n",
    "3. **`colocar_barcos_en_tablero`**: Coloca físicamente las posiciones generadas en el tablero.\n"
   ]
  },
  {
   "cell_type": "code",
   "execution_count": null,
   "metadata": {},
   "outputs": [],
   "source": [
    "def crear_barcos_aleatorios(self, tablero, esloras=[1, 2, 3, 4], cantidades=[4, 3, 2, 1], max_intentos=100):\n",
    "    barcos_dict = {}\n",
    "    for eslora, cantidad in zip(esloras, cantidades):\n",
    "        for n in range(cantidad):\n",
    "            posiciones = self.intentar_colocar_barco(tablero, eslora, max_intentos)\n",
    "            if posiciones:\n",
    "                barcos_dict[f\"barco{eslora}_{n+1}\"] = posiciones\n",
    "    return barcos_dict\n",
    "\n",
    "def intentar_colocar_barco(self, tablero, eslora, max_intentos=100):\n",
    "    for _ in range(max_intentos):\n",
    "        fila_inicial, columna_inicial, orientacion = self.obtener_posicion_aleatoria(eslora)\n",
    "        posiciones = [(fila_inicial, columna_inicial)]\n",
    "        if self.posicion_valida(tablero, posiciones, orientacion, eslora):\n",
    "            for _ in range(1, eslora):\n",
    "                fila_inicial, columna_inicial = self.siguiente_posicion(posiciones[-1][0], posiciones[-1][1], orientacion)\n",
    "                posiciones.append((fila_inicial, columna_inicial))\n",
    "            self.colocar_barcos_en_tablero({f\"barco{eslora}\": posiciones}, tablero)\n",
    "            return posiciones\n",
    "    return None\n",
    "\n",
    "def colocar_barcos_en_tablero(self, barcos_dict, tablero):\n",
    "    for posiciones in barcos_dict.values():\n",
    "        for fila, columna in posiciones:\n",
    "            tablero[fila, columna] = \"O\"\n"
   ]
  },
  {
   "cell_type": "markdown",
   "metadata": {},
   "source": [
    "### Método `obtener_posicion_aleatoria`\n",
    "\n",
    "Este método genera una posición inicial aleatoria en el tablero para colocar un barco. También asigna una orientación (Norte, Sur, Este, Oeste) de manera aleatoria.\n",
    "\n",
    "#### Pasos:\n",
    "1. **Generar coordenadas aleatorias**:\n",
    "   - Se utiliza `random.randint` para obtener una fila y una columna dentro de las dimensiones del tablero.\n",
    "2. **Elegir orientación**:\n",
    "   - Se selecciona aleatoriamente una orientación usando `random.choice`.\n",
    "3. **Retornar los valores**:\n",
    "   - Devuelve las coordenadas iniciales y la orientación.\n",
    "\n",
    "#### Código:\n"
   ]
  },
  {
   "cell_type": "code",
   "execution_count": null,
   "metadata": {},
   "outputs": [],
   "source": [
    "def obtener_posicion_aleatoria(self, eslora):\n",
    "    fila_inicial = random.randint(0, self.dimensiones[0] - 1)\n",
    "    columna_inicial = random.randint(0, self.dimensiones[1] - 1)\n",
    "    orientacion = random.choice([\"N\", \"S\", \"O\", \"E\"])\n",
    "    return fila_inicial, columna_inicial, orientacion\n"
   ]
  },
  {
   "cell_type": "markdown",
   "metadata": {},
   "source": [
    "### Método `posicion_valida`\n",
    "\n",
    "Verifica si un barco puede colocarse en una posición inicial y orientación específica sin salirse de los límites del tablero ni superponerse con otro barco.\n",
    "\n",
    "#### Pasos:\n",
    "1. **Iterar sobre la longitud del barco**:\n",
    "   - Se calculan las posiciones sucesivas basadas en la orientación.\n",
    "2. **Validar posición**:\n",
    "   - Comprueba que las posiciones estén dentro de los límites del tablero.\n",
    "   - Verifica que las casillas estén vacías (`~`).\n",
    "3. **Retornar resultado**:\n",
    "   - Si todas las posiciones son válidas, devuelve `True`. En caso contrario, `False`.\n",
    "\n",
    "#### Código:\n"
   ]
  },
  {
   "cell_type": "code",
   "execution_count": null,
   "metadata": {},
   "outputs": [],
   "source": [
    "def posicion_valida(self, tablero, posiciones, orientacion, eslora):\n",
    "    for _ in range(1, eslora):\n",
    "        fila_inicial, columna_inicial = self.siguiente_posicion(posiciones[-1][0], posiciones[-1][1], orientacion)\n",
    "        if not (0 <= fila_inicial < self.dimensiones[0] and 0 <= columna_inicial < self.dimensiones[1]):\n",
    "            return False\n",
    "        if tablero[fila_inicial, columna_inicial] != \"~\":\n",
    "            return False\n",
    "        posiciones.append((fila_inicial, columna_inicial))\n",
    "    return True\n"
   ]
  },
  {
   "cell_type": "markdown",
   "metadata": {},
   "source": [
    "### Método `siguiente_posicion`\n",
    "\n",
    "Calcula la siguiente posición en el tablero basándose en la orientación y una posición inicial.\n",
    "\n",
    "#### Pasos:\n",
    "1. **Mapeo de direcciones**:\n",
    "   - Define un diccionario `direcciones` con las transformaciones para cada orientación.\n",
    "2. **Calcular posición siguiente**:\n",
    "   - Aplica la transformación correspondiente a la orientación para obtener la nueva fila y columna.\n",
    "3. **Retornar posición**:\n",
    "   - Devuelve las coordenadas calculadas.\n",
    "\n",
    "#### Código:\n"
   ]
  },
  {
   "cell_type": "code",
   "execution_count": null,
   "metadata": {},
   "outputs": [],
   "source": [
    "def siguiente_posicion(self, fila, columna, orientacion):\n",
    "    direcciones = {\n",
    "        \"N\": (-1, 0),\n",
    "        \"S\": (1, 0),\n",
    "        \"E\": (0, 1),\n",
    "        \"O\": (0, -1),\n",
    "    }\n",
    "    return fila + direcciones[orientacion][0], columna + direcciones[orientacion][1]\n"
   ]
  },
  {
   "cell_type": "markdown",
   "metadata": {},
   "source": [
    "### Métodos `disparar_user` y `disparar_machine`\n",
    "\n",
    "Ambos métodos realizan un disparo en el tablero del oponente y actualizan el tablero según el resultado.\n",
    "\n",
    "#### Pasos comunes:\n",
    "1. **Verificar disparo repetido**:\n",
    "   - Comprueban si las coordenadas ya han sido atacadas.\n",
    "2. **Actualizar tablero**:\n",
    "   - Si hay un barco (`O`), se marca como impacto (`X`).\n",
    "   - Si no, se marca como fallo (`*`).\n",
    "\n",
    "#### Código de `disparar_user`:\n"
   ]
  },
  {
   "cell_type": "code",
   "execution_count": null,
   "metadata": {},
   "outputs": [],
   "source": [
    "def disparar_user(self, fila, columna, tablero_oponente):\n",
    "    if (fila, columna) in self.disparos_realizados_user:\n",
    "        print(\"Ya habías intentado aquí\")\n",
    "    self.disparos_realizados_user.add((fila, columna))\n",
    "    if tablero_oponente[fila, columna] == \"O\":\n",
    "        tablero_oponente[fila, columna] = \"X\"\n",
    "        print(\"Impacto\")\n",
    "    else:\n",
    "        tablero_oponente[fila, columna] = \"*\"\n",
    "        print(\"Fallaste\")\n"
   ]
  },
  {
   "cell_type": "code",
   "execution_count": null,
   "metadata": {},
   "outputs": [],
   "source": [
    "def disparar_machine(self, fila, columna, tablero_oponente):\n",
    "    if (fila, columna) in self.disparos_realizados_machine:\n",
    "        print(\"Ya habías intentado aquí\")\n",
    "    self.disparos_realizados_machine.add((fila, columna))\n",
    "    if tablero_oponente[fila, columna] == \"O\":\n",
    "        tablero_oponente[fila, columna] = \"X\"\n",
    "        print(\"Impacto\")\n",
    "    else:\n",
    "        tablero_oponente[fila, columna] = \"*\"\n",
    "        print(\"Fallaste\")\n"
   ]
  },
  {
   "cell_type": "markdown",
   "metadata": {},
   "source": [
    "### Método `tocado_hundido`\n",
    "\n",
    "Determina si un barco ha sido tocado o hundido después de un impacto.\n",
    "\n",
    "#### Pasos:\n",
    "1. **Recorrer barcos**:\n",
    "   - Busca en el diccionario de barcos si el impacto pertenece a alguna de las coordenadas.\n",
    "2. **Contar impactos**:\n",
    "   - Compara la cantidad de impactos en el barco con su longitud.\n",
    "3. **Determinar estado**:\n",
    "   - Si todas las coordenadas del barco están impactadas, está hundido.\n",
    "   - Si no, el barco solo está tocado.\n",
    "\n",
    "#### Código:\n"
   ]
  },
  {
   "cell_type": "code",
   "execution_count": null,
   "metadata": {},
   "outputs": [],
   "source": [
    "def tocado_hundido(self, impacto, tablero, barcos_dict):\n",
    "    impacto = tuple(impacto)\n",
    "    for barco, coordenadas in barcos_dict.items():\n",
    "        longitud_barco = len(coordenadas)\n",
    "        impactos = sum(1 for coordenada in coordenadas if tablero[coordenada] == \"X\")\n",
    "        if impacto in coordenadas:\n",
    "            if impactos == longitud_barco:\n",
    "                print(\"Barco Hundido\")\n",
    "            else:\n",
    "                print(\"Barco Tocado\")\n"
   ]
  },
  {
   "cell_type": "markdown",
   "metadata": {},
   "source": [
    "### Método `imprimir_tablero`\n",
    "\n",
    "Imprime el tablero en consola, ocultando los barcos si se especifica.\n",
    "\n",
    "#### Pasos:\n",
    "1. **Generar encabezado**:\n",
    "   - Crea las etiquetas de las columnas (A, B, C...).\n",
    "2. **Recorrer filas**:\n",
    "   - Imprime cada fila, ocultando los barcos (`O`) si es necesario.\n",
    "3. **Mostrar tablero**:\n",
    "   - Formatea y muestra el tablero.\n",
    "\n",
    "#### Código:\n"
   ]
  },
  {
   "cell_type": "code",
   "execution_count": null,
   "metadata": {},
   "outputs": [],
   "source": [
    "def imprimir_tablero(self, tablero, ocultar_barcos=False):\n",
    "    columnas = list(string.ascii_uppercase[:self.dimensiones[1]])\n",
    "    print(\"  \" + \" \".join(columnas))\n",
    "    for i, fila in enumerate(tablero):\n",
    "        fila_impresa = [\n",
    "            \"~\" if (casilla == \"O\" and ocultar_barcos) else casilla for casilla in fila\n",
    "        ]\n",
    "        print(f\"{i + 1:2} \" + \" \".join(fila_impresa))  # La numeración empieza desde 1\n"
   ]
  },
  {
   "cell_type": "markdown",
   "metadata": {},
   "source": [
    "### Método `obtener_coordenadas_usuario`\n",
    "\n",
    "Solicita al usuario que introduzca las coordenadas de un disparo y valida la entrada.\n",
    "\n",
    "#### Pasos:\n",
    "1. **Pedir entrada al usuario**:\n",
    "   - Solicita un disparo en formato \"A1\", \"B3\", etc.\n",
    "2. **Validar entrada**:\n",
    "   - Verifica que la columna y fila sean válidas.\n",
    "3. **Retornar coordenadas**:\n",
    "   - Convierte la entrada en índices de matriz y los devuelve.\n",
    "\n",
    "#### Código:\n"
   ]
  },
  {
   "cell_type": "code",
   "execution_count": null,
   "metadata": {},
   "outputs": [],
   "source": [
    "def obtener_coordenadas_usuario(self):\n",
    "    while True:\n",
    "        disparo = input(\"Ingresa las coordenadas del disparo (Ejemplos: A1, B3): \").upper()\n",
    "        if len(disparo) >= 2 and disparo[0] in string.ascii_uppercase[:self.dimensiones[1]] and disparo[1:].isdigit():\n",
    "            columna = string.ascii_uppercase.index(disparo[0])\n",
    "            fila = int(disparo[1:]) - 1\n",
    "            if 0 <= fila < self.dimensiones[0] and 0 <= columna < self.dimensiones[1]:\n",
    "                return fila, columna\n",
    "        print(\"Coordenada inválida. Intenta de nuevo.\")\n"
   ]
  },
  {
   "cell_type": "markdown",
   "metadata": {},
   "source": [
    "### Método `iniciar_juego`\n",
    "\n",
    "Este es el método principal que gestiona la interacción entre el usuario y la máquina durante el juego. Sus pasos principales son:\n",
    "\n",
    "1. **Bienvenida e inicialización**: Muestra un mensaje de bienvenida y prepara los tableros de ambos jugadores.\n",
    "2. **Colocación de barcos**:\n",
    "   - Genera posiciones aleatorias para los barcos del usuario y de la máquina.\n",
    "   - Muestra el tablero del usuario con los barcos visibles y el tablero de la máquina con los barcos ocultos.\n",
    "3. **Gestión del turno**:\n",
    "   - **Turno del usuario**:\n",
    "     - Solicita las coordenadas para disparar.\n",
    "     - Realiza el disparo y muestra el resultado (impacto o fallo).\n",
    "   - **Turno de la máquina**:\n",
    "     - Genera coordenadas aleatorias para disparar.\n",
    "     - Realiza el disparo y muestra el resultado (impacto o fallo).\n",
    "4. **Comprobación del estado del juego**: Al final de cada turno, verifica si todos los barcos de algún jugador han sido destruidos.\n",
    "5. **Finalización del juego**: Declara al ganador o termina si el usuario decide salir.\n",
    "\n",
    "Código correspondiente:\n"
   ]
  },
  {
   "cell_type": "code",
   "execution_count": null,
   "metadata": {},
   "outputs": [],
   "source": [
    "def iniciar_juego(self):\n",
    "    # Muestra un mensaje de bienvenida\n",
    "    print(\"\\n¡Bienvenido a Hundir la Flota!\")\n",
    "    print(\"A continuación, podrás disparar dentro de diferentes coordenadas.\")\n",
    "    print(\"Las coordenadas van de A1 a J10.\")\n",
    "    \n",
    "    # Colocación de barcos\n",
    "    self.barcos_user = self.crear_barcos_aleatorios(self.tablero_user)\n",
    "    self.barcos_machine = self.crear_barcos_aleatorios(self.tablero_machine)\n",
    "    \n",
    "    print(\"\\nTablero del usuario:\")\n",
    "    self.imprimir_tablero(self.tablero_user)\n",
    "    \n",
    "    print(\"\\nTablero de la máquina (escondido):\")\n",
    "    self.imprimir_tablero(self.tablero_machine, ocultar_barcos=True)\n",
    "\n",
    "    # Inicio del bucle del juego\n",
    "    while not self.comprobar_fin_de_juego():\n",
    "        print(\"\\nTu turno\")\n",
    "        # Solicitar coordenadas al usuario\n",
    "        coordenadas = self.obtener_coordenadas_usuario()\n",
    "        if coordenadas is None:  # El usuario puede salir del juego\n",
    "            print(\"Gracias por jugar.\")\n",
    "            break\n",
    "\n",
    "        fila, columna = coordenadas\n",
    "        # Realizar disparo del usuario\n",
    "        resultado = self.realizar_disparo(fila, columna, self.tablero_machine, self.disparos_realizados_user, self.barcos_machine)\n",
    "        print(f\"Resultado: {resultado}\")\n",
    "\n",
    "        print(\"\\nTurno de la máquina\")\n",
    "        # Generar disparo aleatorio para la máquina\n",
    "        fila, columna = random.randint(0, self.dimensiones[0] - 1), random.randint(0, self.dimensiones[1] - 1)\n",
    "        print(f\"La máquina disparó en {string.ascii_uppercase[columna]}{fila+1}\")\n",
    "        resultado = self.realizar_disparo(fila, columna, self.tablero_user, self.disparos_realizados_machine, self.barcos_user)\n",
    "        print(f\"Resultado de la máquina: {resultado}\")\n",
    "\n",
    "        # Imprimir los tableros actualizados\n",
    "        print(\"\\nTablero del usuario:\")\n",
    "        self.imprimir_tablero(self.tablero_user)\n",
    "        \n",
    "        print(\"\\nTablero de la máquina (escondido):\")\n",
    "        self.imprimir_tablero(self.tablero_machine, ocultar_barcos=True)\n"
   ]
  },
  {
   "cell_type": "markdown",
   "metadata": {},
   "source": [
    "#### Detalles adicionales:\n",
    "\n",
    "1. **Bienvenida e inicialización**:\n",
    "   - Se utiliza `print` para mostrar mensajes iniciales al usuario.\n",
    "   - Los barcos se colocan de forma aleatoria en los tableros mediante el método `crear_barcos_aleatorios`.\n",
    "\n",
    "2. **Gestión del turno del usuario**:\n",
    "   - Utiliza el método `obtener_coordenadas_usuario` para solicitar coordenadas válidas.\n",
    "   - El disparo se realiza con `realizar_disparo`, que actualiza el tablero de la máquina y verifica si se ha hundido un barco.\n",
    "\n",
    "3. **Turno de la máquina**:\n",
    "   - Genera coordenadas aleatorias para disparar en el tablero del usuario.\n",
    "   - Al igual que el usuario, el disparo se gestiona con `realizar_disparo`.\n",
    "\n",
    "4. **Verificación del estado del juego**:\n",
    "   - El método `comprobar_fin_de_juego` verifica si todos los barcos de un jugador han sido destruidos.\n",
    "\n",
    "5. **Finalización**:\n",
    "   - Si el usuario decide salir, se muestra un mensaje de despedida.\n",
    "   - Si se hunden todos los barcos de un jugador, se declara al ganador.\n",
    "\n",
    "Este método combina los componentes principales del juego, proporcionando una experiencia interactiva por turnos.\n"
   ]
  },
  {
   "cell_type": "markdown",
   "metadata": {},
   "source": [
    "## Flujo del Programa (`main.py`)\n",
    "\n",
    "El archivo `main.py` inicializa el juego y gestiona el flujo principal. A continuación se describe el código.\n"
   ]
  },
  {
   "cell_type": "code",
   "execution_count": null,
   "metadata": {},
   "outputs": [],
   "source": [
    "from funciones import *\n",
    "import random\n",
    "import numpy as np\n",
    "\n",
    "if __name__ == \"__main__\":\n",
    "    juego = Tablero()\n",
    "    juego.iniciar_juego()\n"
   ]
  },
  {
   "cell_type": "markdown",
   "metadata": {},
   "source": [
    "## Conclusión y Posibles Mejoras\n",
    "\n",
    "El juego *Hundir la Flota* está implementado utilizando principios básicos de programación en Python. \n",
    "Algunas posibles mejoras incluyen:\n",
    "\n",
    "- Incorporar una interfaz gráfica de usuario para hacerlo más atractivo visualmente.\n",
    "- Implementar un sistema de dificultad ajustable para la máquina.\n",
    "- Que los barcos no solapen entre sí al ser colocados en el tablero y no haya barcos adyacentes.\n",
    "\n",
    "Este modelo es una excelente base para aprender sobre programación orientada a objetos y diseño de juegos por turnos.\n"
   ]
  }
 ],
 "metadata": {
  "kernelspec": {
   "display_name": "Python 3",
   "language": "python",
   "name": "python3"
  },
  "language_info": {
   "codemirror_mode": {
    "name": "ipython",
    "version": 3
   },
   "file_extension": ".py",
   "mimetype": "text/x-python",
   "name": "python",
   "nbconvert_exporter": "python",
   "pygments_lexer": "ipython3",
   "version": "3.11.3"
  }
 },
 "nbformat": 4,
 "nbformat_minor": 2
}
